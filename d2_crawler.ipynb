{
 "cells": [
  {
   "cell_type": "code",
   "execution_count": 1,
   "metadata": {},
   "outputs": [
    {
     "data": {
      "text/plain": [
       "'/Users/chance/Desktop/Coding/DCX_STUDY'"
      ]
     },
     "execution_count": 1,
     "metadata": {},
     "output_type": "execute_result"
    }
   ],
   "source": [
    "import pandas as pd\n",
    "from selenium import webdriver\n",
    "from selenium.webdriver.common.by import By\n",
    "from selenium.webdriver.support.ui import WebDriverWait\n",
    "from selenium.webdriver.support import expected_conditions as EC\n",
    "import warnings\n",
    "import os\n",
    "warnings.filterwarnings(action='ignore')\n",
    "os.getcwd()"
   ]
  },
  {
   "cell_type": "code",
   "execution_count": 2,
   "metadata": {},
   "outputs": [
    {
     "name": "stdout",
     "output_type": "stream",
     "text": [
      "pandas: 2.2.2\n",
      "webdriver: 4.22.0\n"
     ]
    }
   ],
   "source": [
    "print(\"pandas:\",pd.__version__)\n",
    "print(\"webdriver:\", webdriver.__version__)"
   ]
  },
  {
   "cell_type": "code",
   "execution_count": 3,
   "metadata": {},
   "outputs": [],
   "source": [
    "url = 'https://www.musinsa.com/categories/item/001?device=mw&sortCode=1m'\n",
    "\n",
    "driver = webdriver.Chrome() #mac \n",
    "driver.get(url)"
   ]
  },
  {
   "cell_type": "code",
   "execution_count": 163,
   "metadata": {},
   "outputs": [
    {
     "data": {
      "text/plain": [
       "'CORP TEE BLACK(MG2DMMT509A)'"
      ]
     },
     "execution_count": 163,
     "metadata": {},
     "output_type": "execute_result"
    }
   ],
   "source": [
    "# 해당 css의 글자 가져오기\n",
    "driver.find_element(By.CSS_SELECTOR, '#root > main > div > section.category__sc-1x1c1sb-0.fnCtEX > div:nth-child(1) > div > div:nth-child(1) > div:nth-child(1) > div.category__sc-rb2kzk-10.cjDxkP > a.category__sc-rb2kzk-12.gBkfRU').text"
   ]
  },
  {
   "cell_type": "code",
   "execution_count": 164,
   "metadata": {},
   "outputs": [],
   "source": [
    "# 클릭하기\n",
    "driver.find_element(By.CSS_SELECTOR, '#root > main > div > section.category__sc-1x1c1sb-0.fnCtEX > div:nth-child(1) > div > div:nth-child(1) > div:nth-child(2) > div.category__sc-rb2kzk-10.cjDxkP > a.category__sc-rb2kzk-12.gBkfRU').click()"
   ]
  },
  {
   "cell_type": "code",
   "execution_count": 165,
   "metadata": {},
   "outputs": [
    {
     "data": {
      "text/plain": [
       "'https://www.musinsa.com/app/goods/3126011'"
      ]
     },
     "execution_count": 165,
     "metadata": {},
     "output_type": "execute_result"
    }
   ],
   "source": [
    "driver.find_element(By.CSS_SELECTOR, '#root > main > div > section.category__sc-1x1c1sb-0.fnCtEX > div:nth-child(1) > div > div:nth-child(1) > div:nth-child(1) > div.category__sc-rb2kzk-5.hWLdIX > figure > a').get_attribute('href')"
   ]
  },
  {
   "cell_type": "code",
   "execution_count": 166,
   "metadata": {},
   "outputs": [
    {
     "data": {
      "text/plain": [
       "'https://www.musinsa.com/app/goods/3325842'"
      ]
     },
     "execution_count": 166,
     "metadata": {},
     "output_type": "execute_result"
    }
   ],
   "source": [
    "driver.find_element(By.CSS_SELECTOR, '#root > main > div > section.category__sc-1x1c1sb-0.fnCtEX > div:nth-child(1) > div > div:nth-child(1) > div:nth-child(2) > div.category__sc-rb2kzk-5.hWLdIX > figure > a').get_attribute('href')"
   ]
  },
  {
   "cell_type": "code",
   "execution_count": 4,
   "metadata": {},
   "outputs": [
    {
     "data": {
      "text/plain": [
       "['https://www.musinsa.com/app/goods/3126011',\n",
       " 'https://www.musinsa.com/app/goods/3325842',\n",
       " 'https://www.musinsa.com/app/goods/1944612',\n",
       " 'https://www.musinsa.com/app/goods/2442409',\n",
       " 'https://www.musinsa.com/app/goods/3143791',\n",
       " 'https://www.musinsa.com/app/goods/4061334',\n",
       " 'https://www.musinsa.com/app/goods/3321836',\n",
       " 'https://www.musinsa.com/app/goods/3158061',\n",
       " 'https://www.musinsa.com/app/goods/3817044',\n",
       " 'https://www.musinsa.com/app/goods/4053271',\n",
       " 'https://www.musinsa.com/app/goods/2518417',\n",
       " 'https://www.musinsa.com/app/goods/3155032',\n",
       " 'https://www.musinsa.com/app/goods/4010806',\n",
       " 'https://www.musinsa.com/app/goods/3821970',\n",
       " 'https://www.musinsa.com/app/goods/3927583',\n",
       " 'https://www.musinsa.com/app/goods/2034137',\n",
       " 'https://www.musinsa.com/app/goods/4042935',\n",
       " 'https://www.musinsa.com/app/goods/2285512',\n",
       " 'https://www.musinsa.com/app/goods/2035287',\n",
       " 'https://www.musinsa.com/app/goods/3143788',\n",
       " 'https://www.musinsa.com/app/goods/3791891',\n",
       " 'https://www.musinsa.com/app/goods/1884943',\n",
       " 'https://www.musinsa.com/app/goods/2690691',\n",
       " 'https://www.musinsa.com/app/goods/3293698',\n",
       " 'https://www.musinsa.com/app/goods/3140760',\n",
       " 'https://www.musinsa.com/app/goods/4054464',\n",
       " 'https://www.musinsa.com/app/goods/1763157']"
      ]
     },
     "execution_count": 4,
     "metadata": {},
     "output_type": "execute_result"
    }
   ],
   "source": [
    "url_list = []\n",
    "\n",
    "for j in range(1, 11):\n",
    "    try:\n",
    "        for i in range(1,4):\n",
    "            url_temp = driver.find_element(By.CSS_SELECTOR, f'#root > main > div > section.category__sc-1x1c1sb-0.fnCtEX > div:nth-child(1) > div > div:nth-child({j}) > div:nth-child({i}) > div.category__sc-rb2kzk-5.hWLdIX > figure > a').get_attribute('href')\n",
    "            url_list.append(url_temp)\n",
    "    except:\n",
    "        pass\n",
    "\n",
    "driver.quit()\n",
    "url_list"
   ]
  },
  {
   "cell_type": "code",
   "execution_count": 5,
   "metadata": {},
   "outputs": [],
   "source": [
    "item_name_ls = []\n",
    "brand_ls = []\n",
    "star_ls = []\n",
    "review_ls = []\n",
    "user_ls = []\n",
    "\n",
    "for url in url_list:\n",
    "    try:\n",
    "        driver = webdriver.Chrome()\n",
    "        driver.get(url)\n",
    "\n",
    "        #조건문 만들기 용도\n",
    "        tag = driver.find_element(By.XPATH, '//*[@id=\"root\"]/div[11]/div[1]/h4').text\n",
    "        \n",
    "        item_name = driver.find_element(By.CSS_SELECTOR, '#root > div.sc-1pxf5ii-0.ixVbGB > h2').text\n",
    "\n",
    "        brand = driver.find_element(By.CSS_SELECTOR, f'#root > div.sc-18j0po5-0.gpwaIb > div:nth-child(2) > dl:nth-child(1) > dd').text\n",
    "        \n",
    "        if brand[-2:]=='이상': \n",
    "            brand = driver.find_element(By.CSS_SELECTOR, f'#root > div.sc-18j0po5-0.gpwaIb > div:nth-child(3) > dl:nth-child(1) > dd').text\n",
    "\n",
    "        if brand[-2:]=='이상': \n",
    "            brand = driver.find_element(By.CSS_SELECTOR, f'#root > div.sc-18j0po5-0.gpwaIb > div:nth-child(4) > dl:nth-child(1) > dd').text\n",
    "\n",
    "        driver\n",
    "\n",
    "        for i in range(3, 13):\n",
    "            driver.execute_script(\"window.scrollTo(0, 300)\")\n",
    "\n",
    "            review = WebDriverWait(driver, 10).until(EC.presence_of_element_located((By.CSS_SELECTOR, f'#style_estimate_list > div > div:nth-child({i}) > div.review-contents.gtm-catch-click.logExpandClick > div.review-contents__text'))).text\n",
    "\n",
    "            star = driver.find_element(By.CSS_SELECTOR, f'#style_estimate_list > div > div:nth-child({i}) > div.review-list__rating-wrap > span > span > span').get_attribute('style')\n",
    "\n",
    "            user = driver.find_element(By.CSS_SELECTOR, f'#style_estimate_list > div > div:nth-child({i}) > div.review-profile > div > div.review-profile__text > p.review-profile__name').text\n",
    "\n",
    "            item_name_ls.append(item_name)\n",
    "            brand_ls.append(brand)\n",
    "            review_ls.append(review)\n",
    "            star_ls.append(star)\n",
    "            user_ls.append(user)\n",
    "    except:\n",
    "        pass\n",
    "    \n",
    "    driver.quit()"
   ]
  },
  {
   "cell_type": "code",
   "execution_count": 125,
   "metadata": {},
   "outputs": [],
   "source": [
    "url = 'https://www.musinsa.com/app/goods/3126011'\n",
    "\n",
    "driver = webdriver.Chrome()\n",
    "driver.get(url)\n",
    "\n",
    "driver.execute_script(\"window.scrollTo(0, 300)\")\n",
    "\n",
    "review = WebDriverWait(driver, 10).until(EC.presence_of_element_located((By.CSS_SELECTOR, '#style_estimate_list > div > div:nth-child(12) > div.review-contents.gtm-catch-click.logExpandClick > div.review-contents__text.review-contents--overflow'))).text\n",
    "\n",
    "star = driver.find_element(By.CSS_SELECTOR, '#style_estimate_list > div > div:nth-child(3) > div.review-list__rating-wrap > span > span > span').get_attribute('style')\n",
    "\n",
    "user = driver.find_element(By.CSS_SELECTOR, '#style_estimate_list > div > div:nth-child(3) > div.review-profile > div > div.review-profile__text > p.review-profile__name').text"
   ]
  },
  {
   "cell_type": "code",
   "execution_count": 135,
   "metadata": {},
   "outputs": [],
   "source": [
    "driver.quit()"
   ]
  },
  {
   "cell_type": "code",
   "execution_count": 14,
   "metadata": {},
   "outputs": [],
   "source": [
    "df = pd.DataFrame([item_name_ls, brand_ls, star_ls, review_ls, user_ls]).T\n",
    "df.to_csv('./data/practice_musinsa.csv')"
   ]
  },
  {
   "cell_type": "code",
   "execution_count": null,
   "metadata": {},
   "outputs": [],
   "source": []
  },
  {
   "cell_type": "code",
   "execution_count": null,
   "metadata": {},
   "outputs": [],
   "source": []
  }
 ],
 "metadata": {
  "kernelspec": {
   "display_name": "temp",
   "language": "python",
   "name": "python3"
  },
  "language_info": {
   "codemirror_mode": {
    "name": "ipython",
    "version": 3
   },
   "file_extension": ".py",
   "mimetype": "text/x-python",
   "name": "python",
   "nbconvert_exporter": "python",
   "pygments_lexer": "ipython3",
   "version": "3.1.-1"
  }
 },
 "nbformat": 4,
 "nbformat_minor": 2
}
