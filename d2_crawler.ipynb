{
 "cells": [
  {
   "cell_type": "code",
   "execution_count": 34,
   "metadata": {},
   "outputs": [
    {
     "data": {
      "text/plain": [
       "'/Users/chance/Desktop/Coding/DCX_STUDY'"
      ]
     },
     "execution_count": 34,
     "metadata": {},
     "output_type": "execute_result"
    }
   ],
   "source": [
    "import pandas as pd\n",
    "from selenium import webdriver\n",
    "from selenium.webdriver.common.by import By\n",
    "from selenium.webdriver.support.ui import WebDriverWait\n",
    "from selenium.webdriver.support import expected_conditions as EC\n",
    "import warnings\n",
    "import os\n",
    "warnings.filterwarnings(action='ignore')\n",
    "os.getcwd()"
   ]
  },
  {
   "cell_type": "code",
   "execution_count": 35,
   "metadata": {},
   "outputs": [
    {
     "name": "stdout",
     "output_type": "stream",
     "text": [
      "pandas: 2.2.2\n",
      "webdriver: 4.22.0\n"
     ]
    }
   ],
   "source": [
    "print(\"pandas:\",pd.__version__)\n",
    "print(\"webdriver:\", webdriver.__version__)"
   ]
  },
  {
   "cell_type": "code",
   "execution_count": 42,
   "metadata": {},
   "outputs": [],
   "source": [
    "url = 'https://www.musinsa.com/categories/item/001?device=mw&sortCode=1m'\n",
    "\n",
    "driver = webdriver.Chrome() #mac \n",
    "driver.get(url)"
   ]
  },
  {
   "cell_type": "code",
   "execution_count": 37,
   "metadata": {},
   "outputs": [
    {
     "data": {
      "text/plain": [
       "'CORP TEE BLACK(MG2DMMT509A)'"
      ]
     },
     "execution_count": 37,
     "metadata": {},
     "output_type": "execute_result"
    }
   ],
   "source": [
    "# 해당 css의 글자 가져오기\n",
    "driver.find_element(By.CSS_SELECTOR, '#root > main > div > section.category__sc-1x1c1sb-0.fnCtEX > div:nth-child(1) > div > div:nth-child(1) > div:nth-child(1) > div.category__sc-rb2kzk-10.cjDxkP > a.category__sc-rb2kzk-12.gBkfRU').text"
   ]
  },
  {
   "cell_type": "code",
   "execution_count": 38,
   "metadata": {},
   "outputs": [],
   "source": [
    "# 클릭하기\n",
    "driver.find_element(By.CSS_SELECTOR, '#root > main > div > section.category__sc-1x1c1sb-0.fnCtEX > div:nth-child(1) > div > div:nth-child(1) > div:nth-child(2) > div.category__sc-rb2kzk-10.cjDxkP > a.category__sc-rb2kzk-12.gBkfRU').click()"
   ]
  },
  {
   "cell_type": "code",
   "execution_count": 43,
   "metadata": {},
   "outputs": [
    {
     "data": {
      "text/plain": [
       "'https://www.musinsa.com/app/goods/3126011'"
      ]
     },
     "execution_count": 43,
     "metadata": {},
     "output_type": "execute_result"
    }
   ],
   "source": [
    "driver.find_element(By.CSS_SELECTOR, '#root > main > div > section.category__sc-1x1c1sb-0.fnCtEX > div:nth-child(1) > div > div:nth-child(1) > div:nth-child(1) > div.category__sc-rb2kzk-5.hWLdIX > figure > a').get_attribute('href')"
   ]
  },
  {
   "cell_type": "code",
   "execution_count": 166,
   "metadata": {},
   "outputs": [
    {
     "data": {
      "text/plain": [
       "'https://www.musinsa.com/app/goods/3325842'"
      ]
     },
     "execution_count": 166,
     "metadata": {},
     "output_type": "execute_result"
    }
   ],
   "source": [
    "driver.find_element(By.CSS_SELECTOR, '#root > main > div > section.category__sc-1x1c1sb-0.fnCtEX > div:nth-child(1) > div > div:nth-child(1) > div:nth-child(2) > div.category__sc-rb2kzk-5.hWLdIX > figure > a').get_attribute('href')"
   ]
  },
  {
   "cell_type": "code",
   "execution_count": 44,
   "metadata": {},
   "outputs": [
    {
     "data": {
      "text/plain": [
       "['https://www.musinsa.com/app/goods/3126011',\n",
       " 'https://www.musinsa.com/app/goods/3325842',\n",
       " 'https://www.musinsa.com/app/goods/2442409',\n",
       " 'https://www.musinsa.com/app/goods/3158061',\n",
       " 'https://www.musinsa.com/app/goods/3321836',\n",
       " 'https://www.musinsa.com/app/goods/3817044',\n",
       " 'https://www.musinsa.com/app/goods/1944612',\n",
       " 'https://www.musinsa.com/app/goods/4061334',\n",
       " 'https://www.musinsa.com/app/goods/3143791',\n",
       " 'https://www.musinsa.com/app/goods/4053271',\n",
       " 'https://www.musinsa.com/app/goods/3155032',\n",
       " 'https://www.musinsa.com/app/goods/3821970',\n",
       " 'https://www.musinsa.com/app/goods/1884943',\n",
       " 'https://www.musinsa.com/app/goods/2035287',\n",
       " 'https://www.musinsa.com/app/goods/2285512',\n",
       " 'https://www.musinsa.com/app/goods/3140760',\n",
       " 'https://www.musinsa.com/app/goods/3143788',\n",
       " 'https://www.musinsa.com/app/goods/4010806',\n",
       " 'https://www.musinsa.com/app/goods/3293698',\n",
       " 'https://www.musinsa.com/app/goods/4054464',\n",
       " 'https://www.musinsa.com/app/goods/3791891',\n",
       " 'https://www.musinsa.com/app/goods/1763157',\n",
       " 'https://www.musinsa.com/app/goods/2628632',\n",
       " 'https://www.musinsa.com/app/goods/2462040',\n",
       " 'https://www.musinsa.com/app/goods/3927583',\n",
       " 'https://www.musinsa.com/app/goods/4042935',\n",
       " 'https://www.musinsa.com/app/goods/2034137',\n",
       " 'https://www.musinsa.com/app/goods/2029969',\n",
       " 'https://www.musinsa.com/app/goods/2518417',\n",
       " 'https://www.musinsa.com/app/goods/4146869',\n",
       " 'https://www.musinsa.com/app/goods/4111570',\n",
       " 'https://www.musinsa.com/app/goods/4175458',\n",
       " 'https://www.musinsa.com/app/goods/4101463',\n",
       " 'https://www.musinsa.com/app/goods/4055771',\n",
       " 'https://www.musinsa.com/app/goods/3245031',\n",
       " 'https://www.musinsa.com/app/goods/4053265',\n",
       " 'https://www.musinsa.com/app/goods/4030865',\n",
       " 'https://www.musinsa.com/app/goods/2690691',\n",
       " 'https://www.musinsa.com/app/goods/3129731',\n",
       " 'https://www.musinsa.com/app/goods/4099790',\n",
       " 'https://www.musinsa.com/app/goods/3132887',\n",
       " 'https://www.musinsa.com/app/goods/3118792',\n",
       " 'https://www.musinsa.com/app/goods/4146745',\n",
       " 'https://www.musinsa.com/app/goods/3274144',\n",
       " 'https://www.musinsa.com/app/goods/3874387',\n",
       " 'https://www.musinsa.com/app/goods/2403601',\n",
       " 'https://www.musinsa.com/app/goods/3901720',\n",
       " 'https://www.musinsa.com/app/goods/3856743',\n",
       " 'https://www.musinsa.com/app/goods/3879418',\n",
       " 'https://www.musinsa.com/app/goods/4060643',\n",
       " 'https://www.musinsa.com/app/goods/4071083',\n",
       " 'https://www.musinsa.com/app/goods/3815777',\n",
       " 'https://www.musinsa.com/app/goods/1954316',\n",
       " 'https://www.musinsa.com/app/goods/2005542',\n",
       " 'https://www.musinsa.com/app/goods/3248278',\n",
       " 'https://www.musinsa.com/app/goods/3042516',\n",
       " 'https://www.musinsa.com/app/goods/3991315',\n",
       " 'https://www.musinsa.com/app/goods/2448091',\n",
       " 'https://www.musinsa.com/app/goods/4135365',\n",
       " 'https://www.musinsa.com/app/goods/3043740']"
      ]
     },
     "execution_count": 44,
     "metadata": {},
     "output_type": "execute_result"
    }
   ],
   "source": [
    "url_list = []\n",
    "\n",
    "for j in range(1, 100):\n",
    "    try:\n",
    "        for i in range(1,4):\n",
    "            url_temp = driver.find_element(By.CSS_SELECTOR, f'#root > main > div > section.category__sc-1x1c1sb-0.fnCtEX > div:nth-child(1) > div > div:nth-child({j}) > div:nth-child({i}) > div.category__sc-rb2kzk-5.hWLdIX > figure > a').get_attribute('href')\n",
    "            url_list.append(url_temp)\n",
    "    except:\n",
    "        pass\n",
    "\n",
    "driver.quit()\n",
    "url_list"
   ]
  },
  {
   "cell_type": "code",
   "execution_count": 45,
   "metadata": {},
   "outputs": [],
   "source": [
    "item_name_ls = []\n",
    "brand_ls = []\n",
    "star_ls = []\n",
    "review_ls = []\n",
    "user_ls = []\n",
    "\n",
    "for url in url_list:\n",
    "    try:\n",
    "        driver = webdriver.Chrome()\n",
    "        driver.get(url)\n",
    "\n",
    "        #조건문 만들기 용도\n",
    "        tag = driver.find_element(By.XPATH, '//*[@id=\"root\"]/div[11]/div[1]/h4').text\n",
    "        \n",
    "        item_name = driver.find_element(By.CSS_SELECTOR, '#root > div.sc-1pxf5ii-0.ixVbGB > h2').text\n",
    "\n",
    "        brand = driver.find_element(By.CSS_SELECTOR, f'#root > div.sc-18j0po5-0.gpwaIb > div:nth-child(2) > dl:nth-child(1) > dd').text\n",
    "        \n",
    "        if brand[-2:]=='이상': \n",
    "            brand = driver.find_element(By.CSS_SELECTOR, f'#root > div.sc-18j0po5-0.gpwaIb > div:nth-child(3) > dl:nth-child(1) > dd').text\n",
    "\n",
    "        if brand[-2:]=='이상': \n",
    "            brand = driver.find_element(By.CSS_SELECTOR, f'#root > div.sc-18j0po5-0.gpwaIb > div:nth-child(4) > dl:nth-child(1) > dd').text\n",
    "\n",
    "        driver\n",
    "\n",
    "        for i in range(3, 13):\n",
    "            driver.execute_script(\"window.scrollTo(0, 300)\")\n",
    "\n",
    "            review = WebDriverWait(driver, 10).until(EC.presence_of_element_located((By.CSS_SELECTOR, f'#style_estimate_list > div > div:nth-child({i}) > div.review-contents.gtm-catch-click.logExpandClick > div.review-contents__text'))).text\n",
    "\n",
    "            star = driver.find_element(By.CSS_SELECTOR, f'#style_estimate_list > div > div:nth-child({i}) > div.review-list__rating-wrap > span > span > span').get_attribute('style')\n",
    "\n",
    "            user = driver.find_element(By.CSS_SELECTOR, f'#style_estimate_list > div > div:nth-child({i}) > div.review-profile > div > div.review-profile__text > p.review-profile__name').text\n",
    "\n",
    "            item_name_ls.append(item_name)\n",
    "            brand_ls.append(brand)\n",
    "            review_ls.append(review)\n",
    "            star_ls.append(star)\n",
    "            user_ls.append(user)\n",
    "    except:\n",
    "        pass\n",
    "    \n",
    "    driver.quit()"
   ]
  },
  {
   "cell_type": "code",
   "execution_count": 56,
   "metadata": {},
   "outputs": [
    {
     "data": {
      "text/html": [
       "<div>\n",
       "<style scoped>\n",
       "    .dataframe tbody tr th:only-of-type {\n",
       "        vertical-align: middle;\n",
       "    }\n",
       "\n",
       "    .dataframe tbody tr th {\n",
       "        vertical-align: top;\n",
       "    }\n",
       "\n",
       "    .dataframe thead th {\n",
       "        text-align: right;\n",
       "    }\n",
       "</style>\n",
       "<table border=\"1\" class=\"dataframe\">\n",
       "  <thead>\n",
       "    <tr style=\"text-align: right;\">\n",
       "      <th></th>\n",
       "      <th>0</th>\n",
       "      <th>1</th>\n",
       "      <th>2</th>\n",
       "      <th>3</th>\n",
       "      <th>4</th>\n",
       "    </tr>\n",
       "  </thead>\n",
       "  <tbody>\n",
       "    <tr>\n",
       "      <th>0</th>\n",
       "      <td>CORP TEE BLACK(MG2DMMT509A)</td>\n",
       "      <td>MG2DMMT509ABK\\n / MAHAGRID</td>\n",
       "      <td>width: 100%;</td>\n",
       "      <td>믿고입습니다 핏이 너무 좋고 무난한 반팔티에요 만족도 최상입니다</td>\n",
       "      <td>LV.3 권제로민</td>\n",
       "    </tr>\n",
       "    <tr>\n",
       "      <th>1</th>\n",
       "      <td>CORP TEE BLACK(MG2DMMT509A)</td>\n",
       "      <td>MG2DMMT509ABK\\n / MAHAGRID</td>\n",
       "      <td>width: 100%;</td>\n",
       "      <td>사이즈 딱 예쁘구 힙해서 자주 입을 거 같아용 ! 원단이 얇지는 않아요 !</td>\n",
       "      <td>LV.4 321818</td>\n",
       "    </tr>\n",
       "  </tbody>\n",
       "</table>\n",
       "</div>"
      ],
      "text/plain": [
       "                             0                           1             2  \\\n",
       "0  CORP TEE BLACK(MG2DMMT509A)  MG2DMMT509ABK\\n / MAHAGRID  width: 100%;   \n",
       "1  CORP TEE BLACK(MG2DMMT509A)  MG2DMMT509ABK\\n / MAHAGRID  width: 100%;   \n",
       "\n",
       "                                           3            4  \n",
       "0        믿고입습니다 핏이 너무 좋고 무난한 반팔티에요 만족도 최상입니다    LV.3 권제로민  \n",
       "1  사이즈 딱 예쁘구 힙해서 자주 입을 거 같아용 ! 원단이 얇지는 않아요 !  LV.4 321818  "
      ]
     },
     "execution_count": 56,
     "metadata": {},
     "output_type": "execute_result"
    }
   ],
   "source": [
    "df = pd.DataFrame([item_name_ls, brand_ls, star_ls, review_ls, user_ls]).T\n",
    "df.head(2)"
   ]
  },
  {
   "cell_type": "code",
   "execution_count": 57,
   "metadata": {},
   "outputs": [],
   "source": [
    "df.to_csv('./data/musinsa.csv')"
   ]
  },
  {
   "cell_type": "code",
   "execution_count": null,
   "metadata": {},
   "outputs": [],
   "source": []
  }
 ],
 "metadata": {
  "kernelspec": {
   "display_name": "temp",
   "language": "python",
   "name": "python3"
  },
  "language_info": {
   "codemirror_mode": {
    "name": "ipython",
    "version": 3
   },
   "file_extension": ".py",
   "mimetype": "text/x-python",
   "name": "python",
   "nbconvert_exporter": "python",
   "pygments_lexer": "ipython3",
   "version": "3.11.9"
  }
 },
 "nbformat": 4,
 "nbformat_minor": 2
}
