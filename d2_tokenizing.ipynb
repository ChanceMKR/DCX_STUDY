{
 "cells": [
  {
   "cell_type": "code",
   "execution_count": 1,
   "metadata": {},
   "outputs": [],
   "source": [
    "import pandas as pd"
   ]
  },
  {
   "cell_type": "code",
   "execution_count": 18,
   "metadata": {},
   "outputs": [],
   "source": [
    "musinsa = pd.read_csv('./musinsa_final.csv', index_col=0)"
   ]
  },
  {
   "cell_type": "code",
   "execution_count": 21,
   "metadata": {},
   "outputs": [
    {
     "data": {
      "text/plain": [
       "'믿고입습니다 핏이 너무 좋고 무난한 반팔티에요 만족도 최상입니다'"
      ]
     },
     "execution_count": 21,
     "metadata": {},
     "output_type": "execute_result"
    }
   ],
   "source": [
    "text = musinsa.review[0]\n",
    "text"
   ]
  },
  {
   "cell_type": "code",
   "execution_count": 25,
   "metadata": {},
   "outputs": [
    {
     "data": {
      "text/plain": [
       "<function __main__.kiwi_pos(sentence)>"
      ]
     },
     "execution_count": 25,
     "metadata": {},
     "output_type": "execute_result"
    }
   ],
   "source": [
    "from kiwipiepy import Kiwi\n",
    "\n",
    "kiwi = Kiwi()\n",
    "kiwi_pos"
   ]
  },
  {
   "cell_type": "code",
   "execution_count": 26,
   "metadata": {},
   "outputs": [],
   "source": [
    "#-*- coding: utf-8 -*\n",
    "# data, result 폴더 만드셔야합니다!\n",
    "# data 폴더엔 tagging할 파일 넣으시면 됩니다\n",
    "\n",
    "from kiwipiepy import Kiwi\n",
    "import glob\n",
    "import os\n",
    "import pandas as pd\n",
    "from tqdm import tqdm\n",
    "tqdm.pandas()"
   ]
  },
  {
   "cell_type": "code",
   "execution_count": 12,
   "metadata": {},
   "outputs": [
    {
     "name": "stdout",
     "output_type": "stream",
     "text": [
      "\n",
      "\n"
     ]
    }
   ],
   "source": [
    "data_path = './'\n",
    "save_path = './'\n",
    "column_name = 'review'\n",
    "user_word = '''\n",
    "'''\n",
    "kiwi = Kiwi()\n",
    "user_dict = user_word.split('\\n')\n",
    "for words in user_dict:\n",
    "    kiwi.add_user_word(words, \"NNP\")\n",
    "    print(words)"
   ]
  },
  {
   "cell_type": "code",
   "execution_count": 16,
   "metadata": {},
   "outputs": [],
   "source": [
    "def kiwi_pos(sentence):\n",
    "    pos_list = []\n",
    "    results = kiwi.analyze(str(sentence))\n",
    "    # 결과 출력\n",
    "    for result in results:\n",
    "        for word, tag, start_pos, end_pos in result[0]:\n",
    "            pos_list.append(tuple([word, tag]))\n",
    "    return pos_list\n",
    "\n",
    "def preprocess_kiwi(sentence):\n",
    "    pos_list = kiwi_pos(sentence)\n",
    "    tags = ['NNG','NNP','VV','VA','VX','VCP','VCN','MAG']\n",
    "    words = []\n",
    "    for word, tag in pos_list:\n",
    "        if len(word)<2 : # 길이 1개인건 버림\n",
    "            continue\n",
    "        if tag in tags:\n",
    "            words.append(word)\n",
    "    return words\n",
    "\n",
    "def create_data_path(data_path):\n",
    "    if not os.path.exists(data_path):\n",
    "        os.makedirs(data_path)\n",
    "        print(f\"Directory {data_path} created.\")\n",
    "    else:\n",
    "        print(f\"Directory {data_path} already exists.\")\n",
    "\n",
    "def kiwi_tokenizing(data_path, user_word, column_name):\n",
    "    data_list = glob.glob(f'{data_path}*.csv')\n",
    "    for i in data_list:\n",
    "        i.split\n",
    "        df = pd.read_csv(f'{i}')\n",
    "        df['kiwi_token'] = df[f'{column_name}'].progress_apply(lambda x : preprocess_kiwi(x))\n",
    "        return df\n"
   ]
  },
  {
   "cell_type": "code",
   "execution_count": 17,
   "metadata": {},
   "outputs": [
    {
     "name": "stderr",
     "output_type": "stream",
     "text": [
      "100%|██████████| 150/150 [00:00<00:00, 784.12it/s]\n"
     ]
    },
    {
     "data": {
      "text/html": [
       "<div>\n",
       "<style scoped>\n",
       "    .dataframe tbody tr th:only-of-type {\n",
       "        vertical-align: middle;\n",
       "    }\n",
       "\n",
       "    .dataframe tbody tr th {\n",
       "        vertical-align: top;\n",
       "    }\n",
       "\n",
       "    .dataframe thead th {\n",
       "        text-align: right;\n",
       "    }\n",
       "</style>\n",
       "<table border=\"1\" class=\"dataframe\">\n",
       "  <thead>\n",
       "    <tr style=\"text-align: right;\">\n",
       "      <th></th>\n",
       "      <th>Unnamed: 0</th>\n",
       "      <th>item_code</th>\n",
       "      <th>brand</th>\n",
       "      <th>star</th>\n",
       "      <th>review</th>\n",
       "      <th>nickname</th>\n",
       "      <th>lv</th>\n",
       "      <th>kiwi_token</th>\n",
       "    </tr>\n",
       "  </thead>\n",
       "  <tbody>\n",
       "    <tr>\n",
       "      <th>0</th>\n",
       "      <td>0</td>\n",
       "      <td>MG2DMMT509ABK</td>\n",
       "      <td>MAHAGRID</td>\n",
       "      <td>5</td>\n",
       "      <td>믿고입습니다 핏이 너무 좋고 무난한 반팔티에요 만족도 최상입니다</td>\n",
       "      <td>권제로민</td>\n",
       "      <td>3</td>\n",
       "      <td>[핏이, 너무, 무난하, 반팔, 만족, 최상]</td>\n",
       "    </tr>\n",
       "    <tr>\n",
       "      <th>1</th>\n",
       "      <td>1</td>\n",
       "      <td>MG2DMMT509ABK</td>\n",
       "      <td>MAHAGRID</td>\n",
       "      <td>5</td>\n",
       "      <td>사이즈 딱 예쁘구 힙해서 자주 입을 거 같아용 ! 원단이 얇지는 않아요 !</td>\n",
       "      <td>321818</td>\n",
       "      <td>4</td>\n",
       "      <td>[사이즈, 예쁘, 자주, 원단]</td>\n",
       "    </tr>\n",
       "    <tr>\n",
       "      <th>2</th>\n",
       "      <td>2</td>\n",
       "      <td>MG2DMMT509ABK</td>\n",
       "      <td>MAHAGRID</td>\n",
       "      <td>5</td>\n",
       "      <td>옷 너무 예쁩니다 핏도 아주 잘 나오네요 감사합니다</td>\n",
       "      <td>lcb0</td>\n",
       "      <td>6</td>\n",
       "      <td>[너무, 예쁘, 아주, 나오, 감사]</td>\n",
       "    </tr>\n",
       "    <tr>\n",
       "      <th>3</th>\n",
       "      <td>3</td>\n",
       "      <td>MG2DMMT509ABK</td>\n",
       "      <td>MAHAGRID</td>\n",
       "      <td>5</td>\n",
       "      <td>프린팅이 마음에 들어서 구매했어요 사이즈 적당하고 핏도 맘에 들어오</td>\n",
       "      <td>tjr_dl</td>\n",
       "      <td>5</td>\n",
       "      <td>[프린팅, 마음, 구매, 사이즈]</td>\n",
       "    </tr>\n",
       "    <tr>\n",
       "      <th>4</th>\n",
       "      <td>4</td>\n",
       "      <td>MG2DMMT509ABK</td>\n",
       "      <td>MAHAGRID</td>\n",
       "      <td>5</td>\n",
       "      <td>좋아하는 연예인이 입었길래 구매했는데 생각보다 재질도 좋고 이뻐요 사이즈도 마음에 ...</td>\n",
       "      <td>0.</td>\n",
       "      <td>4</td>\n",
       "      <td>[좋아하, 연예인, 구매, 생각, 재질, 이쁘, 사이즈, 마음]</td>\n",
       "    </tr>\n",
       "  </tbody>\n",
       "</table>\n",
       "</div>"
      ],
      "text/plain": [
       "   Unnamed: 0      item_code     brand  star  \\\n",
       "0           0  MG2DMMT509ABK  MAHAGRID     5   \n",
       "1           1  MG2DMMT509ABK  MAHAGRID     5   \n",
       "2           2  MG2DMMT509ABK  MAHAGRID     5   \n",
       "3           3  MG2DMMT509ABK  MAHAGRID     5   \n",
       "4           4  MG2DMMT509ABK  MAHAGRID     5   \n",
       "\n",
       "                                              review nickname  lv  \\\n",
       "0                믿고입습니다 핏이 너무 좋고 무난한 반팔티에요 만족도 최상입니다     권제로민   3   \n",
       "1          사이즈 딱 예쁘구 힙해서 자주 입을 거 같아용 ! 원단이 얇지는 않아요 !   321818   4   \n",
       "2                       옷 너무 예쁩니다 핏도 아주 잘 나오네요 감사합니다     lcb0   6   \n",
       "3              프린팅이 마음에 들어서 구매했어요 사이즈 적당하고 핏도 맘에 들어오   tjr_dl   5   \n",
       "4  좋아하는 연예인이 입었길래 구매했는데 생각보다 재질도 좋고 이뻐요 사이즈도 마음에 ...       0.   4   \n",
       "\n",
       "                            kiwi_token  \n",
       "0            [핏이, 너무, 무난하, 반팔, 만족, 최상]  \n",
       "1                    [사이즈, 예쁘, 자주, 원단]  \n",
       "2                 [너무, 예쁘, 아주, 나오, 감사]  \n",
       "3                   [프린팅, 마음, 구매, 사이즈]  \n",
       "4  [좋아하, 연예인, 구매, 생각, 재질, 이쁘, 사이즈, 마음]  "
      ]
     },
     "execution_count": 17,
     "metadata": {},
     "output_type": "execute_result"
    }
   ],
   "source": [
    "df = kiwi_tokenizing(data_path, user_word, column_name)\n",
    "df.head()"
   ]
  },
  {
   "cell_type": "code",
   "execution_count": null,
   "metadata": {},
   "outputs": [],
   "source": []
  }
 ],
 "metadata": {
  "kernelspec": {
   "display_name": "text",
   "language": "python",
   "name": "python3"
  },
  "language_info": {
   "codemirror_mode": {
    "name": "ipython",
    "version": 3
   },
   "file_extension": ".py",
   "mimetype": "text/x-python",
   "name": "python",
   "nbconvert_exporter": "python",
   "pygments_lexer": "ipython3",
   "version": "3.11.9"
  }
 },
 "nbformat": 4,
 "nbformat_minor": 2
}
